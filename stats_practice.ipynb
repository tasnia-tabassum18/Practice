{
  "cells": [
    {
      "cell_type": "code",
      "execution_count": 1,
      "metadata": {
        "id": "djKDXKGEjtyl"
      },
      "outputs": [],
      "source": [
        "import numpy as np"
      ]
    },
    {
      "cell_type": "code",
      "execution_count": 14,
      "metadata": {
        "colab": {
          "base_uri": "https://localhost:8080/"
        },
        "id": "Hc4wVE54kJFK",
        "outputId": "2339710d-ca2e-4137-bc54-c01153b2017b"
      },
      "outputs": [
        {
          "name": "stdout",
          "output_type": "stream",
          "text": [
            "Mean of age is: 22.9\n",
            "Median is: 22.9\n",
            "Standard deviation is: 12.037026210821343\n"
          ]
        }
      ],
      "source": [
        "age = np.array([5,10,12,15,20,25,30,32,35,45])\n",
        "\n",
        "print(\"Mean of age is:\", age.mean()) #mean\n",
        "\n",
        "median = age.sum()/len(age)\n",
        "print(\"Median is:\", median)\n",
        "\n",
        "print(\"Standard deviation is:\", np.std(age))"
      ]
    },
    {
      "cell_type": "code",
      "execution_count": 15,
      "metadata": {
        "colab": {
          "base_uri": "https://localhost:8080/"
        },
        "id": "z449VH14lbQr",
        "outputId": "c60ba9ed-c0aa-4750-db97-bf8d0bf6d5b2"
      },
      "outputs": [
        {
          "name": "stdout",
          "output_type": "stream",
          "text": [
            "Mode is: ModeResult(mode=array([5]), count=array([1]))\n"
          ]
        },
        {
          "name": "stderr",
          "output_type": "stream",
          "text": [
            "<ipython-input-15-48ba11cfd398>:2: FutureWarning: Unlike other reduction functions (e.g. `skew`, `kurtosis`), the default behavior of `mode` typically preserves the axis it acts along. In SciPy 1.11.0, this behavior will change: the default value of `keepdims` will become False, the `axis` over which the statistic is taken will be eliminated, and the value None will no longer be accepted. Set `keepdims` to True or False to avoid this warning.\n",
            "  print(\"Mode is:\", st.mode(age))\n"
          ]
        }
      ],
      "source": [
        "from scipy import stats as st\n",
        "print(\"Mode is:\", st.mode(age))\n"
      ]
    },
    {
      "cell_type": "code",
      "execution_count": 16,
      "metadata": {
        "colab": {
          "base_uri": "https://localhost:8080/"
        },
        "id": "u8gJOyLomNN1",
        "outputId": "44cc81ed-a70b-419b-9322-17588b3840f7"
      },
      "outputs": [
        {
          "name": "stdout",
          "output_type": "stream",
          "text": [
            "Z score is: [-1.48707826 -1.07169327 -0.90553928 -0.65630828 -0.24092329  0.1744617\n",
            "  0.58984668  0.75600068  1.00523167  1.83600165]\n"
          ]
        }
      ],
      "source": [
        "print(\"Z score is:\", st.zscore(age))"
      ]
    },
    {
      "cell_type": "code",
      "execution_count": 18,
      "metadata": {
        "colab": {
          "base_uri": "https://localhost:8080/",
          "height": 430
        },
        "id": "dKDlOKPzmTi7",
        "outputId": "4b06daea-2db9-4da8-f239-2adcc98eecde"
      },
      "outputs": [
        {
          "data": {
            "image/png": "[encoded data removed]",
            "text/plain": [
              "<Figure size 640x480 with 1 Axes>"
            ]
          },
          "metadata": {},
          "output_type": "display_data"
        }
      ],
      "source": [
        "import matplotlib.pyplot as plt\n",
        "\n",
        "plt.hist(age, bins=5)\n",
        "plt.show()"
      ]
    },
    {
      "cell_type": "code",
      "execution_count": null,
      "metadata": {},
      "outputs": [],
      "source": [
        "#sending email with attachment \n",
        "import datetime\n",
        "import smtplib\n",
        "from email.mime.multipart import MIMEMultipart\n",
        "from email.mime.text import MIMEText\n",
        "from email.mime.base import MIMEBase\n",
        "from email import encoders\n",
        "today = datetime.datetime.now()\n",
        "subject = \"Test report for Histogram \\n \" + str(today.strftime(\"%d/%m/%y\"))\n",
        "body = f\"Dear Sir,\\n\\nI have attached the report you requested in the attachment.\\n\\nDate and Time: {today.strftime('%d/%m/%y %H:%M:%S')}\\n\\nBest regards,\\nMaisha Adity Farzana\"\n",
        "sender = \"oisheetabassum123570@gmail.com\"\n",
        "recipients = [\"almehady@gmail.com\"]\n",
        "bcc_recipients = [\"oisheeistired@gmail.com\"]\n",
        "password = \"pass\"\n",
        "attachment_path = \"histogram.png\"  # Replace with the actual file path of the image\n",
        "def send_email(subject, body, sender, recipients, bcc_recipients, password, attachment_path):\n",
        "    msg = MIMEMultipart()\n",
        "    msg['Subject'] = subject\n",
        "    msg['From'] = sender\n",
        "    msg['To'] = ', '.join(recipients)\n",
        "    msg['Bcc'] = ', '.join(bcc_recipients)\n",
        "    # Add body text\n",
        "    msg.attach(MIMEText(body, 'plain'))\n",
        "    # Load the image attachment\n",
        "    with open(attachment_path, 'rb') as attachment:\n",
        "        image_part = MIMEBase('application', 'octet-stream')\n",
        "        image_part.set_payload(attachment.read())\n",
        "    # Encode the attachment and set the filename\n",
        "    encoders.encode_base64(image_part)\n",
        "    image_part.add_header('Content-Disposition', f\"attachment; filename= {attachment_path}\")\n",
        "    # Attach the image to the email\n",
        "    msg.attach(image_part)\n",
        "    # Create the SMTP connection and send the email\n",
        "    with smtplib.SMTP('smtp.gmail.com', 587) as smtp_server:\n",
        "        smtp_server.starttls()\n",
        "        smtp_server.login(sender, password)\n",
        "        smtp_server.sendmail(sender, recipients + bcc_recipients, msg.as_string())\n",
        "    print(\"Message sent!\")\n",
        "send_email(subject, body, sender, recipients, bcc_recipients, password, attachment_path)"
      ]
    }
  ],
  "metadata": {
    "colab": {
      "provenance": []
    },
    "kernelspec": {
      "display_name": "Python 3",
      "name": "python3"
    },
    "language_info": {
      "name": "python"
    }
  },
  "nbformat": 4,
  "nbformat_minor": 0
}
